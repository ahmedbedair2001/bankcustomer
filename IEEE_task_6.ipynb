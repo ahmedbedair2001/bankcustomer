{
  "nbformat": 4,
  "nbformat_minor": 0,
  "metadata": {
    "colab": {
      "provenance": [],
      "collapsed_sections": [
        "tNw1egDGTBa6",
        "u0Jkv7kcU5jT",
        "Bm1ruIIWW_xh",
        "J6l1D84kZUII",
        "umasv5u-aIlf",
        "3K-6EJHBd8gy",
        "eQxsenMngz_Z",
        "WV2rGlU9ikJJ",
        "UvX7iYgVtTZr",
        "U9FCshffu7dY",
        "CBvwepubxCbn",
        "xjghLBSFwcPM",
        "kJ2heVdRvfeT",
        "Za0MduJdyw1q"
      ]
    },
    "kernelspec": {
      "name": "python3",
      "display_name": "Python 3"
    },
    "language_info": {
      "name": "python"
    }
  },
  "cells": [
    {
      "cell_type": "markdown",
      "source": [
        "<h1 align='center'><font color='brown'> Task_5\n",
        "<h5 align='center'><font color='brown'> (Cleaning & Git)"
      ],
      "metadata": {
        "id": "S8iIW2_IS559"
      }
    },
    {
      "cell_type": "markdown",
      "source": [
        "# **<font color='red'>Cleaning Part**"
      ],
      "metadata": {
        "id": "YmZ8u9Mtx45u"
      }
    },
    {
      "cell_type": "markdown",
      "source": [
        "# [**Dataset**](https://drive.google.com/file/d/1lOxdsLjcMKk7u0abP7efKCnwiosBq0lc/view?usp=sharing)\n"
      ],
      "metadata": {
        "id": "tNw1egDGTBa6"
      }
    },
    {
      "cell_type": "code",
      "source": [
        "# import your libraries here\n",
        "\n",
        "import pandas as pd\n",
        "import numpy as np\n",
        "\n"
      ],
      "metadata": {
        "id": "igV0nIi_S9fL"
      },
      "execution_count": 116,
      "outputs": []
    },
    {
      "cell_type": "code",
      "source": [
        "# load the dataset & show first 5 rows\n",
        "\n",
        "from google.colab import files\n",
        "uploaded=files.upload()\n"
      ],
      "metadata": {
        "id": "3F8DueUpTQi1",
        "colab": {
          "resources": {
            "http://localhost:8080/nbextensions/google.colab/files.js": {
              "data": "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",
              "ok": true,
              "headers": [
                [
                  "content-type",
                  "application/javascript"
                ]
              ],
              "status": 200,
              "status_text": ""
            }
          },
          "base_uri": "https://localhost:8080/",
          "height": 74
        },
        "outputId": "b546a694-6db6-4a21-ba26-bc8dda396e2c"
      },
      "execution_count": 117,
      "outputs": [
        {
          "output_type": "display_data",
          "data": {
            "text/plain": [
              "<IPython.core.display.HTML object>"
            ],
            "text/html": [
              "\n",
              "     <input type=\"file\" id=\"files-0b6dca61-69af-4ab3-820a-1ee9a0ebc1a7\" name=\"files[]\" multiple disabled\n",
              "        style=\"border:none\" />\n",
              "     <output id=\"result-0b6dca61-69af-4ab3-820a-1ee9a0ebc1a7\">\n",
              "      Upload widget is only available when the cell has been executed in the\n",
              "      current browser session. Please rerun this cell to enable.\n",
              "      </output>\n",
              "      <script src=\"/nbextensions/google.colab/files.js\"></script> "
            ]
          },
          "metadata": {}
        },
        {
          "output_type": "stream",
          "name": "stdout",
          "text": [
            "Saving Bank_Customer.csv to Bank_Customer.csv\n"
          ]
        }
      ]
    },
    {
      "cell_type": "code",
      "source": [
        "bcd=pd.read_csv('Bank_Customer.csv')\n",
        "bcd.head()"
      ],
      "metadata": {
        "colab": {
          "base_uri": "https://localhost:8080/",
          "height": 206
        },
        "id": "KWpJ7A9Vbndp",
        "outputId": "eb77cc63-1604-4f32-a994-eec9d44adaba"
      },
      "execution_count": 118,
      "outputs": [
        {
          "output_type": "execute_result",
          "data": {
            "text/plain": [
              "    age           job  marital  education  balance duration\n",
              "0  58.0    management  married   tertiary     2143      261\n",
              "1  44.0    technician   single  secondary       29      151\n",
              "2  33.0  entrepreneur  married  secondary        2       76\n",
              "3  47.0   blue-collar  married    unknown     1506       92\n",
              "4  33.0       unknown   single    unknown        1      198"
            ],
            "text/html": [
              "\n",
              "  <div id=\"df-3242ad66-3768-45a8-877b-6804132cc313\">\n",
              "    <div class=\"colab-df-container\">\n",
              "      <div>\n",
              "<style scoped>\n",
              "    .dataframe tbody tr th:only-of-type {\n",
              "        vertical-align: middle;\n",
              "    }\n",
              "\n",
              "    .dataframe tbody tr th {\n",
              "        vertical-align: top;\n",
              "    }\n",
              "\n",
              "    .dataframe thead th {\n",
              "        text-align: right;\n",
              "    }\n",
              "</style>\n",
              "<table border=\"1\" class=\"dataframe\">\n",
              "  <thead>\n",
              "    <tr style=\"text-align: right;\">\n",
              "      <th></th>\n",
              "      <th>age</th>\n",
              "      <th>job</th>\n",
              "      <th>marital</th>\n",
              "      <th>education</th>\n",
              "      <th>balance</th>\n",
              "      <th>duration</th>\n",
              "    </tr>\n",
              "  </thead>\n",
              "  <tbody>\n",
              "    <tr>\n",
              "      <th>0</th>\n",
              "      <td>58.0</td>\n",
              "      <td>management</td>\n",
              "      <td>married</td>\n",
              "      <td>tertiary</td>\n",
              "      <td>2143</td>\n",
              "      <td>261</td>\n",
              "    </tr>\n",
              "    <tr>\n",
              "      <th>1</th>\n",
              "      <td>44.0</td>\n",
              "      <td>technician</td>\n",
              "      <td>single</td>\n",
              "      <td>secondary</td>\n",
              "      <td>29</td>\n",
              "      <td>151</td>\n",
              "    </tr>\n",
              "    <tr>\n",
              "      <th>2</th>\n",
              "      <td>33.0</td>\n",
              "      <td>entrepreneur</td>\n",
              "      <td>married</td>\n",
              "      <td>secondary</td>\n",
              "      <td>2</td>\n",
              "      <td>76</td>\n",
              "    </tr>\n",
              "    <tr>\n",
              "      <th>3</th>\n",
              "      <td>47.0</td>\n",
              "      <td>blue-collar</td>\n",
              "      <td>married</td>\n",
              "      <td>unknown</td>\n",
              "      <td>1506</td>\n",
              "      <td>92</td>\n",
              "    </tr>\n",
              "    <tr>\n",
              "      <th>4</th>\n",
              "      <td>33.0</td>\n",
              "      <td>unknown</td>\n",
              "      <td>single</td>\n",
              "      <td>unknown</td>\n",
              "      <td>1</td>\n",
              "      <td>198</td>\n",
              "    </tr>\n",
              "  </tbody>\n",
              "</table>\n",
              "</div>\n",
              "      <button class=\"colab-df-convert\" onclick=\"convertToInteractive('df-3242ad66-3768-45a8-877b-6804132cc313')\"\n",
              "              title=\"Convert this dataframe to an interactive table.\"\n",
              "              style=\"display:none;\">\n",
              "        \n",
              "  <svg xmlns=\"http://www.w3.org/2000/svg\" height=\"24px\"viewBox=\"0 0 24 24\"\n",
              "       width=\"24px\">\n",
              "    <path d=\"M0 0h24v24H0V0z\" fill=\"none\"/>\n",
              "    <path d=\"M18.56 5.44l.94 2.06.94-2.06 2.06-.94-2.06-.94-.94-2.06-.94 2.06-2.06.94zm-11 1L8.5 8.5l.94-2.06 2.06-.94-2.06-.94L8.5 2.5l-.94 2.06-2.06.94zm10 10l.94 2.06.94-2.06 2.06-.94-2.06-.94-.94-2.06-.94 2.06-2.06.94z\"/><path d=\"M17.41 7.96l-1.37-1.37c-.4-.4-.92-.59-1.43-.59-.52 0-1.04.2-1.43.59L10.3 9.45l-7.72 7.72c-.78.78-.78 2.05 0 2.83L4 21.41c.39.39.9.59 1.41.59.51 0 1.02-.2 1.41-.59l7.78-7.78 2.81-2.81c.8-.78.8-2.07 0-2.86zM5.41 20L4 18.59l7.72-7.72 1.47 1.35L5.41 20z\"/>\n",
              "  </svg>\n",
              "      </button>\n",
              "      \n",
              "  <style>\n",
              "    .colab-df-container {\n",
              "      display:flex;\n",
              "      flex-wrap:wrap;\n",
              "      gap: 12px;\n",
              "    }\n",
              "\n",
              "    .colab-df-convert {\n",
              "      background-color: #E8F0FE;\n",
              "      border: none;\n",
              "      border-radius: 50%;\n",
              "      cursor: pointer;\n",
              "      display: none;\n",
              "      fill: #1967D2;\n",
              "      height: 32px;\n",
              "      padding: 0 0 0 0;\n",
              "      width: 32px;\n",
              "    }\n",
              "\n",
              "    .colab-df-convert:hover {\n",
              "      background-color: #E2EBFA;\n",
              "      box-shadow: 0px 1px 2px rgba(60, 64, 67, 0.3), 0px 1px 3px 1px rgba(60, 64, 67, 0.15);\n",
              "      fill: #174EA6;\n",
              "    }\n",
              "\n",
              "    [theme=dark] .colab-df-convert {\n",
              "      background-color: #3B4455;\n",
              "      fill: #D2E3FC;\n",
              "    }\n",
              "\n",
              "    [theme=dark] .colab-df-convert:hover {\n",
              "      background-color: #434B5C;\n",
              "      box-shadow: 0px 1px 3px 1px rgba(0, 0, 0, 0.15);\n",
              "      filter: drop-shadow(0px 1px 2px rgba(0, 0, 0, 0.3));\n",
              "      fill: #FFFFFF;\n",
              "    }\n",
              "  </style>\n",
              "\n",
              "      <script>\n",
              "        const buttonEl =\n",
              "          document.querySelector('#df-3242ad66-3768-45a8-877b-6804132cc313 button.colab-df-convert');\n",
              "        buttonEl.style.display =\n",
              "          google.colab.kernel.accessAllowed ? 'block' : 'none';\n",
              "\n",
              "        async function convertToInteractive(key) {\n",
              "          const element = document.querySelector('#df-3242ad66-3768-45a8-877b-6804132cc313');\n",
              "          const dataTable =\n",
              "            await google.colab.kernel.invokeFunction('convertToInteractive',\n",
              "                                                     [key], {});\n",
              "          if (!dataTable) return;\n",
              "\n",
              "          const docLinkHtml = 'Like what you see? Visit the ' +\n",
              "            '<a target=\"_blank\" href=https://colab.research.google.com/notebooks/data_table.ipynb>data table notebook</a>'\n",
              "            + ' to learn more about interactive tables.';\n",
              "          element.innerHTML = '';\n",
              "          dataTable['output_type'] = 'display_data';\n",
              "          await google.colab.output.renderOutput(dataTable, element);\n",
              "          const docLink = document.createElement('div');\n",
              "          docLink.innerHTML = docLinkHtml;\n",
              "          element.appendChild(docLink);\n",
              "        }\n",
              "      </script>\n",
              "    </div>\n",
              "  </div>\n",
              "  "
            ]
          },
          "metadata": {},
          "execution_count": 118
        }
      ]
    },
    {
      "cell_type": "code",
      "source": [
        "# have an overview about the data using .info()\n",
        "\n",
        "\n",
        "bcd.info()"
      ],
      "metadata": {
        "id": "3xFadmwPTSuL",
        "colab": {
          "base_uri": "https://localhost:8080/"
        },
        "outputId": "10a2e174-ef8c-46de-cfe5-d6880fc9b75a"
      },
      "execution_count": 119,
      "outputs": [
        {
          "output_type": "stream",
          "name": "stdout",
          "text": [
            "<class 'pandas.core.frame.DataFrame'>\n",
            "RangeIndex: 1090 entries, 0 to 1089\n",
            "Data columns (total 6 columns):\n",
            " #   Column     Non-Null Count  Dtype  \n",
            "---  ------     --------------  -----  \n",
            " 0   age        1000 non-null   float64\n",
            " 1   job        1090 non-null   object \n",
            " 2   marital    1090 non-null   object \n",
            " 3   education  1090 non-null   object \n",
            " 4   balance    1090 non-null   int64  \n",
            " 5   duration   1090 non-null   object \n",
            "dtypes: float64(1), int64(1), object(4)\n",
            "memory usage: 51.2+ KB\n"
          ]
        }
      ]
    },
    {
      "cell_type": "code",
      "source": [
        "# summarize what is wrong with your data !! (hint: Missing_values)\n",
        "#there is 90 null values in age column\n",
        "bcd['age'].isna().value_counts()\n"
      ],
      "metadata": {
        "id": "r-e-IrofTg3q",
        "colab": {
          "base_uri": "https://localhost:8080/"
        },
        "outputId": "520d254a-0f6d-4981-b35f-83ae1b830b0e"
      },
      "execution_count": 120,
      "outputs": [
        {
          "output_type": "execute_result",
          "data": {
            "text/plain": [
              "False    1000\n",
              "True       90\n",
              "Name: age, dtype: int64"
            ]
          },
          "metadata": {},
          "execution_count": 120
        }
      ]
    },
    {
      "cell_type": "markdown",
      "source": [
        "# <font color='blue'>Dealing with missing values:\n",
        ">## **hint**: Impute *NaN* in **`age`** column\n",
        "\n",
        ">##### **BONUS**: solve it with two imputing ways. \n",
        "\n"
      ],
      "metadata": {
        "id": "u0Jkv7kcU5jT"
      }
    },
    {
      "cell_type": "code",
      "source": [
        "# First Methodology:\n",
        "\n",
        "bcd.dropna(inplace=True)\n",
        "\n"
      ],
      "metadata": {
        "id": "cXpQH4beVNdx"
      },
      "execution_count": 121,
      "outputs": []
    },
    {
      "cell_type": "code",
      "source": [
        "# Second Methodology\n",
        "bcd=bcd[bcd['age']>0]\n",
        "\n",
        "\n"
      ],
      "metadata": {
        "id": "iIbzc82dWyqK"
      },
      "execution_count": 122,
      "outputs": []
    },
    {
      "cell_type": "markdown",
      "source": [
        "# <font color='blue'>Run **`df.isna().sum()`** to make sure no more missing values.\n",
        ">## **Hint**: Don't Forget those hidden ones.\n",
        "use `.unique()` or `.value_counts()` for help."
      ],
      "metadata": {
        "id": "Bm1ruIIWW_xh"
      }
    },
    {
      "cell_type": "code",
      "source": [
        "bcd.isna().sum()"
      ],
      "metadata": {
        "id": "42zPhvpZX5rn",
        "colab": {
          "base_uri": "https://localhost:8080/"
        },
        "outputId": "254ebf61-3181-470d-b37d-754caea2ebb2"
      },
      "execution_count": 123,
      "outputs": [
        {
          "output_type": "execute_result",
          "data": {
            "text/plain": [
              "age          0\n",
              "job          0\n",
              "marital      0\n",
              "education    0\n",
              "balance      0\n",
              "duration     0\n",
              "dtype: int64"
            ]
          },
          "metadata": {},
          "execution_count": 123
        }
      ]
    },
    {
      "cell_type": "code",
      "source": [
        "bcd['job'].value_counts()"
      ],
      "metadata": {
        "id": "fyW7-9_onzPz",
        "colab": {
          "base_uri": "https://localhost:8080/"
        },
        "outputId": "b5621929-53fe-41bf-fd6e-c256fef28b58"
      },
      "execution_count": 124,
      "outputs": [
        {
          "output_type": "execute_result",
          "data": {
            "text/plain": [
              "blue-collar      292\n",
              "technician       148\n",
              "admin.           141\n",
              "management       137\n",
              "services         131\n",
              "retired           47\n",
              "entrepreneur      29\n",
              "self-employed     26\n",
              "unemployed        23\n",
              "student           13\n",
              "housemaid          9\n",
              "unknown            4\n",
              "Name: job, dtype: int64"
            ]
          },
          "metadata": {},
          "execution_count": 124
        }
      ]
    },
    {
      "cell_type": "code",
      "source": [
        "bcd=bcd[bcd['job']!='unknown']\n",
        "bcd['job'].value_counts()"
      ],
      "metadata": {
        "id": "1F-unrBvX55o",
        "colab": {
          "base_uri": "https://localhost:8080/"
        },
        "outputId": "5242242f-6211-4192-b57d-57c27041c820"
      },
      "execution_count": 125,
      "outputs": [
        {
          "output_type": "execute_result",
          "data": {
            "text/plain": [
              "blue-collar      292\n",
              "technician       148\n",
              "admin.           141\n",
              "management       137\n",
              "services         131\n",
              "retired           47\n",
              "entrepreneur      29\n",
              "self-employed     26\n",
              "unemployed        23\n",
              "student           13\n",
              "housemaid          9\n",
              "Name: job, dtype: int64"
            ]
          },
          "metadata": {},
          "execution_count": 125
        }
      ]
    },
    {
      "cell_type": "code",
      "source": [
        "bcd['marital'].value_counts()"
      ],
      "metadata": {
        "colab": {
          "base_uri": "https://localhost:8080/"
        },
        "id": "GYWioqY-fLAf",
        "outputId": "cba94b1b-43a8-4d63-97c8-43f6695e38c0"
      },
      "execution_count": 126,
      "outputs": [
        {
          "output_type": "execute_result",
          "data": {
            "text/plain": [
              "married     636\n",
              "single      218\n",
              "divorced    142\n",
              "Name: marital, dtype: int64"
            ]
          },
          "metadata": {},
          "execution_count": 126
        }
      ]
    },
    {
      "cell_type": "code",
      "source": [
        "bcd['balance'].unique()"
      ],
      "metadata": {
        "id": "iDIuFmgRX5_L",
        "colab": {
          "base_uri": "https://localhost:8080/"
        },
        "outputId": "2ec72cfd-19fe-44ad-a6ac-8fab11ca4bf3"
      },
      "execution_count": 127,
      "outputs": [
        {
          "output_type": "execute_result",
          "data": {
            "text/plain": [
              "array([ 2143,    29,     2,  1506,   231,   447,   121,   593,   270,\n",
              "         390,     6,    71,   162,   229,    13,    52,    60,     0,\n",
              "         723,   779,    23,    50,  -372,   255,   113,  -246,   265,\n",
              "         839,   378,    39, 10635,    63,    -7,    -3,   506,  2586,\n",
              "          49,   104,   529,    96,  -171,  -364,  1291,  -244,   -76,\n",
              "        -103,   243,   424,   306,    24,   179,   989,   249,   790,\n",
              "         154,  6530,   100,    59,  1205, 12223,  5935,    25,   282,\n",
              "        1937,   384,   582,    91,     1,   206,   164,   690,  2343,\n",
              "         137,   173,    45,  1270,    16,   486,   152,   290,    54,\n",
              "         -37,   101,   383,    81,  -674,    90,   128,   151,    61,\n",
              "          30,   523,    31,    79,   -34,   448,   144,   351,   -67,\n",
              "         262,    56,    26,     3,    41,     7,   105,   818,   -16,\n",
              "        2476,  1185,   217,  1685,   802,    94,   517,   947,    42,\n",
              "          37,    57,    22,     8,   293,   348,   -19,    -4,    18,\n",
              "         139,  1883,   216,   782,   904,  1705,    47,   176,  1225,\n",
              "          86,    82,   271,  1378,   184,  1357,    19,   434,    92,\n",
              "        1151,    51,   214,  1161,   787,   253,   211,   235,  4384,\n",
              "        4080,    53,  2127,   377,    73,   445,   307,   155,   400,\n",
              "        1428,   219,   575,   298,  5699,   257,  -390,   330,   195,\n",
              "         301,   -41,   483,   965,   324,   -69,   205,   278,  1065,\n",
              "          34,  1033,  1467,   -12,   388,   294,  1827,   627,   315,\n",
              "          66,    -9,   349,  3237,   275,   207,  2248,   428,   140,\n",
              "         297,   279,   901,  2573,   143,   475,    70,   318,   742,\n",
              "         236,   600,  -349,   183,  1078,   190,   319,  -185,   570,\n",
              "         -62,   258,    76,   352,   368,   339,  1331,   672,    58,\n",
              "         423,    28,   792,   408,   531,    62,  1234,   313,    89,\n",
              "         129,   353,   851,   398,   193,  -358,   539,   490,   403,\n",
              "         161,  2558,    98,   115,   436,   831,  -457,  1387, 24598,\n",
              "        1022,    -2,   842,   693,  -333,  1533,    46,    44,  -100,\n",
              "         510,   685,   187,   560,    12,  1068,   263,  1263,   126,\n",
              "         230,   841,   308,   157,  1293,   122,   131,   393,   224,\n",
              "         757,   245,  8486,   350,    20,  1667,   345,    10,   830,\n",
              "         545,  8730,   477,     4,   283,    17,   141,  1927,   284,\n",
              "        1660,   406,   -25,   182,  1169,    67,    77,    55,    72,\n",
              "         163,     9,   375,  1142,  2102,  4325,  1680,   320,   469,\n",
              "         530,   242,   367,   228, 45248,   -84,   310,   132,   797,\n",
              "         274,  -109,   -60,   -11,  -509,  1640,   292,   109,  1044,\n",
              "         983,   869,   668,   964,  1877,  1127,   871,   767,   209,\n",
              "         110,   178,   -66,  5345,  -209,   -99,   276,  -170,   946,\n",
              "        1297,  -331,    15,   712,  5435,   507,   387,  1716,   167,\n",
              "          40,   148,  1011,  1527,   744,   484,   136,  1335,   459,\n",
              "         549,    83,   213,   203,   518,  3877,  1236,   756,  -144,\n",
              "         505,    11,   639,   124,   107,   473,   372,   935,   -10,\n",
              "        -106,   471,   778,   170,  3165,   204,  5431,  1759,  -125,\n",
              "        5090,   573,  1602,  -137,   288,    99,  2298,   840,   358,\n",
              "        -325,   -15,   581,  4070,    74,   450,   395,  -118,     5,\n",
              "         285,   653,   918,   405,  1328,  3397,  2106,  2877,  2226,\n",
              "        2880,    -5,   147,  -119,  1852,   533,    21,  2434,  4246,\n",
              "          85,  -184,   660,  -183,  1144,    69,   220,   332,   240,\n",
              "         898,   123,   252,    65,  -366,   221,   312,  -322,  -150,\n",
              "        1349,   281,  1259,   848,   200,   201,    43,  -173,   389,\n",
              "         215,  -131,   783,    80,   244,   948,   710,  1631,   -48,\n",
              "        2142,   401,  -497,   369,    78,   226,   503,   125,   419,\n",
              "         322,   303,   607,   579,  3047,    68,   251,   688,   364,\n",
              "         325,   198,   376,   550,   512,   807,   248,  1211,    88,\n",
              "          32,   254,   569,  3754,  6920,  -421,   402,   800,   239,\n",
              "         421,   289,   156,   166,   103,  -454,  1001,  1617,   210,\n",
              "         185,   836,   407,  2303,   305,   238,   222,   414,   223,\n",
              "         197,  -251,  -139,   733,    97,   435,  1109,   404,   981,\n",
              "          95,   302,  -290,   259,   527,   102,   872,   386,  -329,\n",
              "        -174,  -532,    64,  1415,  -196,   716,  -203,   342,  -248,\n",
              "         370,   594,   208,   563,   392,   165,  1265,   118,  3659,\n",
              "         673,   273,   327,   299,   552,   344,   266,   233,  -291,\n",
              "         309,   202,   326,  2100,   192,   442,   267,  7624,  1013,\n",
              "        8823, 58544,   169,   444,   542,  -205,   112,  1268,   -98,\n",
              "         -90,   -94,  -345,  -932,   134,   -45,   564,    -6,   528,\n",
              "        1481,  2019,  1855,    87,   644,   225,   502,   -32,   106,\n",
              "         906,   852,  1496,   703,   732,   268,  -825,   803,   188,\n",
              "        1466,   159,   849,    -1,  1377])"
            ]
          },
          "metadata": {},
          "execution_count": 127
        }
      ]
    },
    {
      "cell_type": "code",
      "source": [
        "bcd=bcd[bcd['balance']>0]\n",
        "bcd"
      ],
      "metadata": {
        "colab": {
          "base_uri": "https://localhost:8080/",
          "height": 0
        },
        "id": "2VAuBdpNpfMq",
        "outputId": "64792c78-059f-486a-f2c8-a0019d8fbf93"
      },
      "execution_count": 128,
      "outputs": [
        {
          "output_type": "execute_result",
          "data": {
            "text/plain": [
              "      age           job  marital  education  balance duration\n",
              "0    58.0    management  married   tertiary     2143      261\n",
              "1    44.0    technician   single  secondary       29      151\n",
              "2    33.0  entrepreneur  married  secondary        2       76\n",
              "3    47.0   blue-collar  married    unknown     1506       92\n",
              "5    35.0    management  married   tertiary      231      139\n",
              "..    ...           ...      ...        ...      ...      ...\n",
              "995  37.0   blue-collar  married    primary      310      474\n",
              "996  34.0        admin.  married  secondary      475      559\n",
              "997  43.0   blue-collar  married    primary       61      261\n",
              "998  49.0      services  married  secondary     1377     1101\n",
              "999  33.0    technician   single  secondary       56      236\n",
              "\n",
              "[815 rows x 6 columns]"
            ],
            "text/html": [
              "\n",
              "  <div id=\"df-93ad1482-e228-4e76-ac3a-ccd435116e72\">\n",
              "    <div class=\"colab-df-container\">\n",
              "      <div>\n",
              "<style scoped>\n",
              "    .dataframe tbody tr th:only-of-type {\n",
              "        vertical-align: middle;\n",
              "    }\n",
              "\n",
              "    .dataframe tbody tr th {\n",
              "        vertical-align: top;\n",
              "    }\n",
              "\n",
              "    .dataframe thead th {\n",
              "        text-align: right;\n",
              "    }\n",
              "</style>\n",
              "<table border=\"1\" class=\"dataframe\">\n",
              "  <thead>\n",
              "    <tr style=\"text-align: right;\">\n",
              "      <th></th>\n",
              "      <th>age</th>\n",
              "      <th>job</th>\n",
              "      <th>marital</th>\n",
              "      <th>education</th>\n",
              "      <th>balance</th>\n",
              "      <th>duration</th>\n",
              "    </tr>\n",
              "  </thead>\n",
              "  <tbody>\n",
              "    <tr>\n",
              "      <th>0</th>\n",
              "      <td>58.0</td>\n",
              "      <td>management</td>\n",
              "      <td>married</td>\n",
              "      <td>tertiary</td>\n",
              "      <td>2143</td>\n",
              "      <td>261</td>\n",
              "    </tr>\n",
              "    <tr>\n",
              "      <th>1</th>\n",
              "      <td>44.0</td>\n",
              "      <td>technician</td>\n",
              "      <td>single</td>\n",
              "      <td>secondary</td>\n",
              "      <td>29</td>\n",
              "      <td>151</td>\n",
              "    </tr>\n",
              "    <tr>\n",
              "      <th>2</th>\n",
              "      <td>33.0</td>\n",
              "      <td>entrepreneur</td>\n",
              "      <td>married</td>\n",
              "      <td>secondary</td>\n",
              "      <td>2</td>\n",
              "      <td>76</td>\n",
              "    </tr>\n",
              "    <tr>\n",
              "      <th>3</th>\n",
              "      <td>47.0</td>\n",
              "      <td>blue-collar</td>\n",
              "      <td>married</td>\n",
              "      <td>unknown</td>\n",
              "      <td>1506</td>\n",
              "      <td>92</td>\n",
              "    </tr>\n",
              "    <tr>\n",
              "      <th>5</th>\n",
              "      <td>35.0</td>\n",
              "      <td>management</td>\n",
              "      <td>married</td>\n",
              "      <td>tertiary</td>\n",
              "      <td>231</td>\n",
              "      <td>139</td>\n",
              "    </tr>\n",
              "    <tr>\n",
              "      <th>...</th>\n",
              "      <td>...</td>\n",
              "      <td>...</td>\n",
              "      <td>...</td>\n",
              "      <td>...</td>\n",
              "      <td>...</td>\n",
              "      <td>...</td>\n",
              "    </tr>\n",
              "    <tr>\n",
              "      <th>995</th>\n",
              "      <td>37.0</td>\n",
              "      <td>blue-collar</td>\n",
              "      <td>married</td>\n",
              "      <td>primary</td>\n",
              "      <td>310</td>\n",
              "      <td>474</td>\n",
              "    </tr>\n",
              "    <tr>\n",
              "      <th>996</th>\n",
              "      <td>34.0</td>\n",
              "      <td>admin.</td>\n",
              "      <td>married</td>\n",
              "      <td>secondary</td>\n",
              "      <td>475</td>\n",
              "      <td>559</td>\n",
              "    </tr>\n",
              "    <tr>\n",
              "      <th>997</th>\n",
              "      <td>43.0</td>\n",
              "      <td>blue-collar</td>\n",
              "      <td>married</td>\n",
              "      <td>primary</td>\n",
              "      <td>61</td>\n",
              "      <td>261</td>\n",
              "    </tr>\n",
              "    <tr>\n",
              "      <th>998</th>\n",
              "      <td>49.0</td>\n",
              "      <td>services</td>\n",
              "      <td>married</td>\n",
              "      <td>secondary</td>\n",
              "      <td>1377</td>\n",
              "      <td>1101</td>\n",
              "    </tr>\n",
              "    <tr>\n",
              "      <th>999</th>\n",
              "      <td>33.0</td>\n",
              "      <td>technician</td>\n",
              "      <td>single</td>\n",
              "      <td>secondary</td>\n",
              "      <td>56</td>\n",
              "      <td>236</td>\n",
              "    </tr>\n",
              "  </tbody>\n",
              "</table>\n",
              "<p>815 rows × 6 columns</p>\n",
              "</div>\n",
              "      <button class=\"colab-df-convert\" onclick=\"convertToInteractive('df-93ad1482-e228-4e76-ac3a-ccd435116e72')\"\n",
              "              title=\"Convert this dataframe to an interactive table.\"\n",
              "              style=\"display:none;\">\n",
              "        \n",
              "  <svg xmlns=\"http://www.w3.org/2000/svg\" height=\"24px\"viewBox=\"0 0 24 24\"\n",
              "       width=\"24px\">\n",
              "    <path d=\"M0 0h24v24H0V0z\" fill=\"none\"/>\n",
              "    <path d=\"M18.56 5.44l.94 2.06.94-2.06 2.06-.94-2.06-.94-.94-2.06-.94 2.06-2.06.94zm-11 1L8.5 8.5l.94-2.06 2.06-.94-2.06-.94L8.5 2.5l-.94 2.06-2.06.94zm10 10l.94 2.06.94-2.06 2.06-.94-2.06-.94-.94-2.06-.94 2.06-2.06.94z\"/><path d=\"M17.41 7.96l-1.37-1.37c-.4-.4-.92-.59-1.43-.59-.52 0-1.04.2-1.43.59L10.3 9.45l-7.72 7.72c-.78.78-.78 2.05 0 2.83L4 21.41c.39.39.9.59 1.41.59.51 0 1.02-.2 1.41-.59l7.78-7.78 2.81-2.81c.8-.78.8-2.07 0-2.86zM5.41 20L4 18.59l7.72-7.72 1.47 1.35L5.41 20z\"/>\n",
              "  </svg>\n",
              "      </button>\n",
              "      \n",
              "  <style>\n",
              "    .colab-df-container {\n",
              "      display:flex;\n",
              "      flex-wrap:wrap;\n",
              "      gap: 12px;\n",
              "    }\n",
              "\n",
              "    .colab-df-convert {\n",
              "      background-color: #E8F0FE;\n",
              "      border: none;\n",
              "      border-radius: 50%;\n",
              "      cursor: pointer;\n",
              "      display: none;\n",
              "      fill: #1967D2;\n",
              "      height: 32px;\n",
              "      padding: 0 0 0 0;\n",
              "      width: 32px;\n",
              "    }\n",
              "\n",
              "    .colab-df-convert:hover {\n",
              "      background-color: #E2EBFA;\n",
              "      box-shadow: 0px 1px 2px rgba(60, 64, 67, 0.3), 0px 1px 3px 1px rgba(60, 64, 67, 0.15);\n",
              "      fill: #174EA6;\n",
              "    }\n",
              "\n",
              "    [theme=dark] .colab-df-convert {\n",
              "      background-color: #3B4455;\n",
              "      fill: #D2E3FC;\n",
              "    }\n",
              "\n",
              "    [theme=dark] .colab-df-convert:hover {\n",
              "      background-color: #434B5C;\n",
              "      box-shadow: 0px 1px 3px 1px rgba(0, 0, 0, 0.15);\n",
              "      filter: drop-shadow(0px 1px 2px rgba(0, 0, 0, 0.3));\n",
              "      fill: #FFFFFF;\n",
              "    }\n",
              "  </style>\n",
              "\n",
              "      <script>\n",
              "        const buttonEl =\n",
              "          document.querySelector('#df-93ad1482-e228-4e76-ac3a-ccd435116e72 button.colab-df-convert');\n",
              "        buttonEl.style.display =\n",
              "          google.colab.kernel.accessAllowed ? 'block' : 'none';\n",
              "\n",
              "        async function convertToInteractive(key) {\n",
              "          const element = document.querySelector('#df-93ad1482-e228-4e76-ac3a-ccd435116e72');\n",
              "          const dataTable =\n",
              "            await google.colab.kernel.invokeFunction('convertToInteractive',\n",
              "                                                     [key], {});\n",
              "          if (!dataTable) return;\n",
              "\n",
              "          const docLinkHtml = 'Like what you see? Visit the ' +\n",
              "            '<a target=\"_blank\" href=https://colab.research.google.com/notebooks/data_table.ipynb>data table notebook</a>'\n",
              "            + ' to learn more about interactive tables.';\n",
              "          element.innerHTML = '';\n",
              "          dataTable['output_type'] = 'display_data';\n",
              "          await google.colab.output.renderOutput(dataTable, element);\n",
              "          const docLink = document.createElement('div');\n",
              "          docLink.innerHTML = docLinkHtml;\n",
              "          element.appendChild(docLink);\n",
              "        }\n",
              "      </script>\n",
              "    </div>\n",
              "  </div>\n",
              "  "
            ]
          },
          "metadata": {},
          "execution_count": 128
        }
      ]
    },
    {
      "cell_type": "markdown",
      "source": [
        "# <font color='blue'>Check for duplicates if exist."
      ],
      "metadata": {
        "id": "J6l1D84kZUII"
      }
    },
    {
      "cell_type": "code",
      "source": [
        "bcd.duplicated().sum()"
      ],
      "metadata": {
        "id": "HstkvhiCaBWg",
        "colab": {
          "base_uri": "https://localhost:8080/"
        },
        "outputId": "34661439-e760-4e2b-ccbc-22b95b9b7bbc"
      },
      "execution_count": 129,
      "outputs": [
        {
          "output_type": "execute_result",
          "data": {
            "text/plain": [
              "0"
            ]
          },
          "metadata": {},
          "execution_count": 129
        }
      ]
    },
    {
      "cell_type": "code",
      "source": [],
      "metadata": {
        "id": "EEKXjiocaB5f"
      },
      "execution_count": 129,
      "outputs": []
    },
    {
      "cell_type": "code",
      "source": [],
      "metadata": {
        "id": "MTjZ5FH-d01V"
      },
      "execution_count": 129,
      "outputs": []
    },
    {
      "cell_type": "markdown",
      "source": [
        "# <font color='blue'>Go on your work by cleaning the **`duration`** column."
      ],
      "metadata": {
        "id": "umasv5u-aIlf"
      }
    },
    {
      "cell_type": "code",
      "source": [
        "bcd['duration'].unique()"
      ],
      "metadata": {
        "id": "BDYIFM8AanUW",
        "colab": {
          "base_uri": "https://localhost:8080/"
        },
        "outputId": "cecd14f1-4ebb-497b-dff6-0a0f699885ca"
      },
      "execution_count": 130,
      "outputs": [
        {
          "output_type": "execute_result",
          "data": {
            "text/plain": [
              "array(['261', '151', '76', '92', '139', '217', '380', '50', '55', '222',\n",
              "       '137', '517', '71', '174', '353', '98', '38', '219', '262', '164',\n",
              "       '160', '342', '296', '127', '348', '225', '230', '208', '336',\n",
              "       '242', '577', '180', '22', '1492', '616', '266', '104', '13',\n",
              "       '185', '1778', '812', '391', '357', '91', '528', '273', '158',\n",
              "       '177', '258', '172', '154', '291', '181', '176', '211', '349',\n",
              "       '193', '212', '20', '1042', '246', '529', '1467', '1389', '188',\n",
              "       '48', '213', '583', '221', '426', '287', '101', '197', '124',\n",
              "       '229', '190', '21', '514', '849', 'zero', '144', '286', '107',\n",
              "       '247', '518', '178', '439', '79', '120', '175', '61', '579', '677',\n",
              "       '345', '100', '541', '163', '301', '46', '204', '157', '243',\n",
              "       '186', '85', '114', '57', '238', '93', '128', '303', '558', '270',\n",
              "       '228', '99', '240', '673', '250', '252', '138', '130', '412',\n",
              "       '179', '19', '458', '717', '313', '683', '1077', '416', '146',\n",
              "       '167', '315', '140', '346', '142', '67', '309', '248', '256', '82',\n",
              "       '477', '611', '381', '42', '251', '408', '215', '216', '366',\n",
              "       '210', '168', '410', '1419', '125', '27', '730', '746', '121',\n",
              "       '40', '206', '702', '117', '232', '39', '282', '714', '227', '119',\n",
              "       '361', '73', '350', '332', '113', '132', '58', '89', '152', '110',\n",
              "       '10', '118', '143', '234', '75', '189', '621', '310', '156', '2',\n",
              "       '742', '226', '362', '200', '126', '65', '267', '209', '205', '83',\n",
              "       '106', '108', '311', '214', '453', '386', '241', '224', '148',\n",
              "       '196', '111', '231', '316', '425', '135', '325', '503', '95',\n",
              "       '421', '808', '198', '404', '396', '88', '379', '102', '306',\n",
              "       '218', '54', '344', '195', '652', '184', '235', '133', '318',\n",
              "       '260', '437', '402', '501', '1201', '253', '1030', '149', '769',\n",
              "       '199', '424', '43', '203', '483', '259', '90', '505', '623', '496',\n",
              "       '276', '87', '744', '765', '150', '112', '136', '1623', '354',\n",
              "       '187', '451', '159', '409', '608', '145', '53', '134', '678',\n",
              "       '182', '162', '699', '97', '1677', '283', '323', '47', '30', '448',\n",
              "       '169', '278', '374', '233', '153', '80', '918', '269', '371',\n",
              "       '288', '427', '604', '129', '191', '26', '289', '161', '268',\n",
              "       '383', '440', '1297', '69', '105', '524', '96', '155', '352',\n",
              "       '390', '526', '1906', '407', '339', '285', '389', '147', '703',\n",
              "       '170', '802', '304', '201', '328', '116', '530', '312', '392',\n",
              "       '284', '507', '684', '333', '322', '202', '739', '308', '320',\n",
              "       '245', '400', '378', '1597', '60', '109', '31', '593', '631', '32',\n",
              "       '1529', '254', '314', '597', '207', '305', '122', '66', '343',\n",
              "       '249', '406', '220', '51', '479', '35', '720', '141', '395', '629',\n",
              "       '502', '446', '131', '275', '68', '852', '923', '294', '74', '520',\n",
              "       '293', '485', '732', '359', '1521', '800', '615', '327', '236',\n",
              "       '492', '1138', '123', '173', '786', '463', '192', '401', '435',\n",
              "       '223', '274', '49', '376', '36', '866', '56', '1581', '279', '516',\n",
              "       '171', '614', '650', '474', '559', '1101'], dtype=object)"
            ]
          },
          "metadata": {},
          "execution_count": 130
        }
      ]
    },
    {
      "cell_type": "code",
      "source": [
        "bcd=bcd[bcd['duration']!='zero']"
      ],
      "metadata": {
        "id": "FlnnaQgsimUy"
      },
      "execution_count": 131,
      "outputs": []
    },
    {
      "cell_type": "code",
      "source": [
        "bcd['duration']=bcd['duration'].astype('int')"
      ],
      "metadata": {
        "id": "kCS9-nN-cDvF",
        "colab": {
          "base_uri": "https://localhost:8080/"
        },
        "outputId": "d8418ba7-4b74-4981-cb08-de2ab360eaff"
      },
      "execution_count": 132,
      "outputs": [
        {
          "output_type": "stream",
          "name": "stderr",
          "text": [
            "/usr/local/lib/python3.7/dist-packages/ipykernel_launcher.py:1: SettingWithCopyWarning: \n",
            "A value is trying to be set on a copy of a slice from a DataFrame.\n",
            "Try using .loc[row_indexer,col_indexer] = value instead\n",
            "\n",
            "See the caveats in the documentation: https://pandas.pydata.org/pandas-docs/stable/user_guide/indexing.html#returning-a-view-versus-a-copy\n",
            "  \"\"\"Entry point for launching an IPython kernel.\n"
          ]
        }
      ]
    },
    {
      "cell_type": "code",
      "source": [
        "bcd.info()"
      ],
      "metadata": {
        "id": "dL9GZmojdsxW",
        "colab": {
          "base_uri": "https://localhost:8080/"
        },
        "outputId": "33af931f-dd79-46c6-ca99-28cf06ec0986"
      },
      "execution_count": 133,
      "outputs": [
        {
          "output_type": "stream",
          "name": "stdout",
          "text": [
            "<class 'pandas.core.frame.DataFrame'>\n",
            "Int64Index: 807 entries, 0 to 999\n",
            "Data columns (total 6 columns):\n",
            " #   Column     Non-Null Count  Dtype  \n",
            "---  ------     --------------  -----  \n",
            " 0   age        807 non-null    float64\n",
            " 1   job        807 non-null    object \n",
            " 2   marital    807 non-null    object \n",
            " 3   education  807 non-null    object \n",
            " 4   balance    807 non-null    int64  \n",
            " 5   duration   807 non-null    int64  \n",
            "dtypes: float64(1), int64(2), object(3)\n",
            "memory usage: 44.1+ KB\n"
          ]
        }
      ]
    },
    {
      "cell_type": "markdown",
      "source": [
        "# <font color='blue'>Show your data in the given form below:\n",
        "> ## **Note:** **`age`** represents the average_age\n",
        "> ## **Note:** **`duration`** represents the max_duration\n",
        "_______________\n",
        "\n",
        "![2.PNG](data:image/png;base64,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)"
      ],
      "metadata": {
        "id": "3K-6EJHBd8gy"
      }
    },
    {
      "cell_type": "code",
      "source": [
        "bcd.groupby('job').mean().drop(columns=['balance'])\n"
      ],
      "metadata": {
        "id": "Om4kmScggiC6",
        "colab": {
          "base_uri": "https://localhost:8080/",
          "height": 0
        },
        "outputId": "1c6d8f4c-804c-499d-c034-f272b81330ab"
      },
      "execution_count": 134,
      "outputs": [
        {
          "output_type": "execute_result",
          "data": {
            "text/plain": [
              "                     age    duration\n",
              "job                                 \n",
              "admin.         41.330508  261.118644\n",
              "blue-collar    43.441048  264.165939\n",
              "entrepreneur   42.769231  258.000000\n",
              "housemaid      44.750000  331.000000\n",
              "management     42.913793  250.767241\n",
              "retired        54.641026  293.615385\n",
              "self-employed  43.850000  231.050000\n",
              "services       41.592233  301.359223\n",
              "student        28.500000  214.500000\n",
              "technician     43.091667  280.316667\n",
              "unemployed     42.875000  320.875000"
            ],
            "text/html": [
              "\n",
              "  <div id=\"df-1f847ac4-183d-46ee-a599-bcccd5e52b3a\">\n",
              "    <div class=\"colab-df-container\">\n",
              "      <div>\n",
              "<style scoped>\n",
              "    .dataframe tbody tr th:only-of-type {\n",
              "        vertical-align: middle;\n",
              "    }\n",
              "\n",
              "    .dataframe tbody tr th {\n",
              "        vertical-align: top;\n",
              "    }\n",
              "\n",
              "    .dataframe thead th {\n",
              "        text-align: right;\n",
              "    }\n",
              "</style>\n",
              "<table border=\"1\" class=\"dataframe\">\n",
              "  <thead>\n",
              "    <tr style=\"text-align: right;\">\n",
              "      <th></th>\n",
              "      <th>age</th>\n",
              "      <th>duration</th>\n",
              "    </tr>\n",
              "    <tr>\n",
              "      <th>job</th>\n",
              "      <th></th>\n",
              "      <th></th>\n",
              "    </tr>\n",
              "  </thead>\n",
              "  <tbody>\n",
              "    <tr>\n",
              "      <th>admin.</th>\n",
              "      <td>41.330508</td>\n",
              "      <td>261.118644</td>\n",
              "    </tr>\n",
              "    <tr>\n",
              "      <th>blue-collar</th>\n",
              "      <td>43.441048</td>\n",
              "      <td>264.165939</td>\n",
              "    </tr>\n",
              "    <tr>\n",
              "      <th>entrepreneur</th>\n",
              "      <td>42.769231</td>\n",
              "      <td>258.000000</td>\n",
              "    </tr>\n",
              "    <tr>\n",
              "      <th>housemaid</th>\n",
              "      <td>44.750000</td>\n",
              "      <td>331.000000</td>\n",
              "    </tr>\n",
              "    <tr>\n",
              "      <th>management</th>\n",
              "      <td>42.913793</td>\n",
              "      <td>250.767241</td>\n",
              "    </tr>\n",
              "    <tr>\n",
              "      <th>retired</th>\n",
              "      <td>54.641026</td>\n",
              "      <td>293.615385</td>\n",
              "    </tr>\n",
              "    <tr>\n",
              "      <th>self-employed</th>\n",
              "      <td>43.850000</td>\n",
              "      <td>231.050000</td>\n",
              "    </tr>\n",
              "    <tr>\n",
              "      <th>services</th>\n",
              "      <td>41.592233</td>\n",
              "      <td>301.359223</td>\n",
              "    </tr>\n",
              "    <tr>\n",
              "      <th>student</th>\n",
              "      <td>28.500000</td>\n",
              "      <td>214.500000</td>\n",
              "    </tr>\n",
              "    <tr>\n",
              "      <th>technician</th>\n",
              "      <td>43.091667</td>\n",
              "      <td>280.316667</td>\n",
              "    </tr>\n",
              "    <tr>\n",
              "      <th>unemployed</th>\n",
              "      <td>42.875000</td>\n",
              "      <td>320.875000</td>\n",
              "    </tr>\n",
              "  </tbody>\n",
              "</table>\n",
              "</div>\n",
              "      <button class=\"colab-df-convert\" onclick=\"convertToInteractive('df-1f847ac4-183d-46ee-a599-bcccd5e52b3a')\"\n",
              "              title=\"Convert this dataframe to an interactive table.\"\n",
              "              style=\"display:none;\">\n",
              "        \n",
              "  <svg xmlns=\"http://www.w3.org/2000/svg\" height=\"24px\"viewBox=\"0 0 24 24\"\n",
              "       width=\"24px\">\n",
              "    <path d=\"M0 0h24v24H0V0z\" fill=\"none\"/>\n",
              "    <path d=\"M18.56 5.44l.94 2.06.94-2.06 2.06-.94-2.06-.94-.94-2.06-.94 2.06-2.06.94zm-11 1L8.5 8.5l.94-2.06 2.06-.94-2.06-.94L8.5 2.5l-.94 2.06-2.06.94zm10 10l.94 2.06.94-2.06 2.06-.94-2.06-.94-.94-2.06-.94 2.06-2.06.94z\"/><path d=\"M17.41 7.96l-1.37-1.37c-.4-.4-.92-.59-1.43-.59-.52 0-1.04.2-1.43.59L10.3 9.45l-7.72 7.72c-.78.78-.78 2.05 0 2.83L4 21.41c.39.39.9.59 1.41.59.51 0 1.02-.2 1.41-.59l7.78-7.78 2.81-2.81c.8-.78.8-2.07 0-2.86zM5.41 20L4 18.59l7.72-7.72 1.47 1.35L5.41 20z\"/>\n",
              "  </svg>\n",
              "      </button>\n",
              "      \n",
              "  <style>\n",
              "    .colab-df-container {\n",
              "      display:flex;\n",
              "      flex-wrap:wrap;\n",
              "      gap: 12px;\n",
              "    }\n",
              "\n",
              "    .colab-df-convert {\n",
              "      background-color: #E8F0FE;\n",
              "      border: none;\n",
              "      border-radius: 50%;\n",
              "      cursor: pointer;\n",
              "      display: none;\n",
              "      fill: #1967D2;\n",
              "      height: 32px;\n",
              "      padding: 0 0 0 0;\n",
              "      width: 32px;\n",
              "    }\n",
              "\n",
              "    .colab-df-convert:hover {\n",
              "      background-color: #E2EBFA;\n",
              "      box-shadow: 0px 1px 2px rgba(60, 64, 67, 0.3), 0px 1px 3px 1px rgba(60, 64, 67, 0.15);\n",
              "      fill: #174EA6;\n",
              "    }\n",
              "\n",
              "    [theme=dark] .colab-df-convert {\n",
              "      background-color: #3B4455;\n",
              "      fill: #D2E3FC;\n",
              "    }\n",
              "\n",
              "    [theme=dark] .colab-df-convert:hover {\n",
              "      background-color: #434B5C;\n",
              "      box-shadow: 0px 1px 3px 1px rgba(0, 0, 0, 0.15);\n",
              "      filter: drop-shadow(0px 1px 2px rgba(0, 0, 0, 0.3));\n",
              "      fill: #FFFFFF;\n",
              "    }\n",
              "  </style>\n",
              "\n",
              "      <script>\n",
              "        const buttonEl =\n",
              "          document.querySelector('#df-1f847ac4-183d-46ee-a599-bcccd5e52b3a button.colab-df-convert');\n",
              "        buttonEl.style.display =\n",
              "          google.colab.kernel.accessAllowed ? 'block' : 'none';\n",
              "\n",
              "        async function convertToInteractive(key) {\n",
              "          const element = document.querySelector('#df-1f847ac4-183d-46ee-a599-bcccd5e52b3a');\n",
              "          const dataTable =\n",
              "            await google.colab.kernel.invokeFunction('convertToInteractive',\n",
              "                                                     [key], {});\n",
              "          if (!dataTable) return;\n",
              "\n",
              "          const docLinkHtml = 'Like what you see? Visit the ' +\n",
              "            '<a target=\"_blank\" href=https://colab.research.google.com/notebooks/data_table.ipynb>data table notebook</a>'\n",
              "            + ' to learn more about interactive tables.';\n",
              "          element.innerHTML = '';\n",
              "          dataTable['output_type'] = 'display_data';\n",
              "          await google.colab.output.renderOutput(dataTable, element);\n",
              "          const docLink = document.createElement('div');\n",
              "          docLink.innerHTML = docLinkHtml;\n",
              "          element.appendChild(docLink);\n",
              "        }\n",
              "      </script>\n",
              "    </div>\n",
              "  </div>\n",
              "  "
            ]
          },
          "metadata": {},
          "execution_count": 134
        }
      ]
    },
    {
      "cell_type": "code",
      "source": [],
      "metadata": {
        "id": "Of8k_aBHreYy"
      },
      "execution_count": 134,
      "outputs": []
    },
    {
      "cell_type": "code",
      "source": [],
      "metadata": {
        "id": "J2jvXxCpeHQN"
      },
      "execution_count": 134,
      "outputs": []
    },
    {
      "cell_type": "markdown",
      "source": [
        "# <font color='blue'>Show the table of the previous question after sorting it by **`duration`**:"
      ],
      "metadata": {
        "id": "eQxsenMngz_Z"
      }
    },
    {
      "cell_type": "code",
      "source": [
        "bcd.sort_values(by=['duration'],inplace=True)\n",
        "bcd"
      ],
      "metadata": {
        "id": "ccVhUdPohVV6",
        "colab": {
          "base_uri": "https://localhost:8080/",
          "height": 0
        },
        "outputId": "07d774d6-b5ab-4f01-80d9-1cacc4ab0a0f"
      },
      "execution_count": 135,
      "outputs": [
        {
          "output_type": "stream",
          "name": "stderr",
          "text": [
            "/usr/local/lib/python3.7/dist-packages/pandas/util/_decorators.py:311: SettingWithCopyWarning: \n",
            "A value is trying to be set on a copy of a slice from a DataFrame\n",
            "\n",
            "See the caveats in the documentation: https://pandas.pydata.org/pandas-docs/stable/user_guide/indexing.html#returning-a-view-versus-a-copy\n",
            "  return func(*args, **kwargs)\n"
          ]
        },
        {
          "output_type": "execute_result",
          "data": {
            "text/plain": [
              "      age          job  marital  education  balance  duration\n",
              "287  50.0   technician   single   tertiary      339         2\n",
              "272  57.0   technician  married  secondary     1078        10\n",
              "57   47.0  blue-collar  married    unknown      306        13\n",
              "706  44.0   technician   single    unknown       78        13\n",
              "538  34.0  blue-collar  married    unknown      245        13\n",
              "..    ...          ...      ...        ...      ...       ...\n",
              "694  36.0   technician  married  secondary      368      1597\n",
              "446  39.0   technician   single    unknown    45248      1623\n",
              "474  34.0       admin.  married  secondary      869      1677\n",
              "59   46.0     services  married    primary      179      1778\n",
              "600  38.0  blue-collar  married  secondary      384      1906\n",
              "\n",
              "[807 rows x 6 columns]"
            ],
            "text/html": [
              "\n",
              "  <div id=\"df-d182e0ab-4877-4dbf-b2ae-6604abf17aac\">\n",
              "    <div class=\"colab-df-container\">\n",
              "      <div>\n",
              "<style scoped>\n",
              "    .dataframe tbody tr th:only-of-type {\n",
              "        vertical-align: middle;\n",
              "    }\n",
              "\n",
              "    .dataframe tbody tr th {\n",
              "        vertical-align: top;\n",
              "    }\n",
              "\n",
              "    .dataframe thead th {\n",
              "        text-align: right;\n",
              "    }\n",
              "</style>\n",
              "<table border=\"1\" class=\"dataframe\">\n",
              "  <thead>\n",
              "    <tr style=\"text-align: right;\">\n",
              "      <th></th>\n",
              "      <th>age</th>\n",
              "      <th>job</th>\n",
              "      <th>marital</th>\n",
              "      <th>education</th>\n",
              "      <th>balance</th>\n",
              "      <th>duration</th>\n",
              "    </tr>\n",
              "  </thead>\n",
              "  <tbody>\n",
              "    <tr>\n",
              "      <th>287</th>\n",
              "      <td>50.0</td>\n",
              "      <td>technician</td>\n",
              "      <td>single</td>\n",
              "      <td>tertiary</td>\n",
              "      <td>339</td>\n",
              "      <td>2</td>\n",
              "    </tr>\n",
              "    <tr>\n",
              "      <th>272</th>\n",
              "      <td>57.0</td>\n",
              "      <td>technician</td>\n",
              "      <td>married</td>\n",
              "      <td>secondary</td>\n",
              "      <td>1078</td>\n",
              "      <td>10</td>\n",
              "    </tr>\n",
              "    <tr>\n",
              "      <th>57</th>\n",
              "      <td>47.0</td>\n",
              "      <td>blue-collar</td>\n",
              "      <td>married</td>\n",
              "      <td>unknown</td>\n",
              "      <td>306</td>\n",
              "      <td>13</td>\n",
              "    </tr>\n",
              "    <tr>\n",
              "      <th>706</th>\n",
              "      <td>44.0</td>\n",
              "      <td>technician</td>\n",
              "      <td>single</td>\n",
              "      <td>unknown</td>\n",
              "      <td>78</td>\n",
              "      <td>13</td>\n",
              "    </tr>\n",
              "    <tr>\n",
              "      <th>538</th>\n",
              "      <td>34.0</td>\n",
              "      <td>blue-collar</td>\n",
              "      <td>married</td>\n",
              "      <td>unknown</td>\n",
              "      <td>245</td>\n",
              "      <td>13</td>\n",
              "    </tr>\n",
              "    <tr>\n",
              "      <th>...</th>\n",
              "      <td>...</td>\n",
              "      <td>...</td>\n",
              "      <td>...</td>\n",
              "      <td>...</td>\n",
              "      <td>...</td>\n",
              "      <td>...</td>\n",
              "    </tr>\n",
              "    <tr>\n",
              "      <th>694</th>\n",
              "      <td>36.0</td>\n",
              "      <td>technician</td>\n",
              "      <td>married</td>\n",
              "      <td>secondary</td>\n",
              "      <td>368</td>\n",
              "      <td>1597</td>\n",
              "    </tr>\n",
              "    <tr>\n",
              "      <th>446</th>\n",
              "      <td>39.0</td>\n",
              "      <td>technician</td>\n",
              "      <td>single</td>\n",
              "      <td>unknown</td>\n",
              "      <td>45248</td>\n",
              "      <td>1623</td>\n",
              "    </tr>\n",
              "    <tr>\n",
              "      <th>474</th>\n",
              "      <td>34.0</td>\n",
              "      <td>admin.</td>\n",
              "      <td>married</td>\n",
              "      <td>secondary</td>\n",
              "      <td>869</td>\n",
              "      <td>1677</td>\n",
              "    </tr>\n",
              "    <tr>\n",
              "      <th>59</th>\n",
              "      <td>46.0</td>\n",
              "      <td>services</td>\n",
              "      <td>married</td>\n",
              "      <td>primary</td>\n",
              "      <td>179</td>\n",
              "      <td>1778</td>\n",
              "    </tr>\n",
              "    <tr>\n",
              "      <th>600</th>\n",
              "      <td>38.0</td>\n",
              "      <td>blue-collar</td>\n",
              "      <td>married</td>\n",
              "      <td>secondary</td>\n",
              "      <td>384</td>\n",
              "      <td>1906</td>\n",
              "    </tr>\n",
              "  </tbody>\n",
              "</table>\n",
              "<p>807 rows × 6 columns</p>\n",
              "</div>\n",
              "      <button class=\"colab-df-convert\" onclick=\"convertToInteractive('df-d182e0ab-4877-4dbf-b2ae-6604abf17aac')\"\n",
              "              title=\"Convert this dataframe to an interactive table.\"\n",
              "              style=\"display:none;\">\n",
              "        \n",
              "  <svg xmlns=\"http://www.w3.org/2000/svg\" height=\"24px\"viewBox=\"0 0 24 24\"\n",
              "       width=\"24px\">\n",
              "    <path d=\"M0 0h24v24H0V0z\" fill=\"none\"/>\n",
              "    <path d=\"M18.56 5.44l.94 2.06.94-2.06 2.06-.94-2.06-.94-.94-2.06-.94 2.06-2.06.94zm-11 1L8.5 8.5l.94-2.06 2.06-.94-2.06-.94L8.5 2.5l-.94 2.06-2.06.94zm10 10l.94 2.06.94-2.06 2.06-.94-2.06-.94-.94-2.06-.94 2.06-2.06.94z\"/><path d=\"M17.41 7.96l-1.37-1.37c-.4-.4-.92-.59-1.43-.59-.52 0-1.04.2-1.43.59L10.3 9.45l-7.72 7.72c-.78.78-.78 2.05 0 2.83L4 21.41c.39.39.9.59 1.41.59.51 0 1.02-.2 1.41-.59l7.78-7.78 2.81-2.81c.8-.78.8-2.07 0-2.86zM5.41 20L4 18.59l7.72-7.72 1.47 1.35L5.41 20z\"/>\n",
              "  </svg>\n",
              "      </button>\n",
              "      \n",
              "  <style>\n",
              "    .colab-df-container {\n",
              "      display:flex;\n",
              "      flex-wrap:wrap;\n",
              "      gap: 12px;\n",
              "    }\n",
              "\n",
              "    .colab-df-convert {\n",
              "      background-color: #E8F0FE;\n",
              "      border: none;\n",
              "      border-radius: 50%;\n",
              "      cursor: pointer;\n",
              "      display: none;\n",
              "      fill: #1967D2;\n",
              "      height: 32px;\n",
              "      padding: 0 0 0 0;\n",
              "      width: 32px;\n",
              "    }\n",
              "\n",
              "    .colab-df-convert:hover {\n",
              "      background-color: #E2EBFA;\n",
              "      box-shadow: 0px 1px 2px rgba(60, 64, 67, 0.3), 0px 1px 3px 1px rgba(60, 64, 67, 0.15);\n",
              "      fill: #174EA6;\n",
              "    }\n",
              "\n",
              "    [theme=dark] .colab-df-convert {\n",
              "      background-color: #3B4455;\n",
              "      fill: #D2E3FC;\n",
              "    }\n",
              "\n",
              "    [theme=dark] .colab-df-convert:hover {\n",
              "      background-color: #434B5C;\n",
              "      box-shadow: 0px 1px 3px 1px rgba(0, 0, 0, 0.15);\n",
              "      filter: drop-shadow(0px 1px 2px rgba(0, 0, 0, 0.3));\n",
              "      fill: #FFFFFF;\n",
              "    }\n",
              "  </style>\n",
              "\n",
              "      <script>\n",
              "        const buttonEl =\n",
              "          document.querySelector('#df-d182e0ab-4877-4dbf-b2ae-6604abf17aac button.colab-df-convert');\n",
              "        buttonEl.style.display =\n",
              "          google.colab.kernel.accessAllowed ? 'block' : 'none';\n",
              "\n",
              "        async function convertToInteractive(key) {\n",
              "          const element = document.querySelector('#df-d182e0ab-4877-4dbf-b2ae-6604abf17aac');\n",
              "          const dataTable =\n",
              "            await google.colab.kernel.invokeFunction('convertToInteractive',\n",
              "                                                     [key], {});\n",
              "          if (!dataTable) return;\n",
              "\n",
              "          const docLinkHtml = 'Like what you see? Visit the ' +\n",
              "            '<a target=\"_blank\" href=https://colab.research.google.com/notebooks/data_table.ipynb>data table notebook</a>'\n",
              "            + ' to learn more about interactive tables.';\n",
              "          element.innerHTML = '';\n",
              "          dataTable['output_type'] = 'display_data';\n",
              "          await google.colab.output.renderOutput(dataTable, element);\n",
              "          const docLink = document.createElement('div');\n",
              "          docLink.innerHTML = docLinkHtml;\n",
              "          element.appendChild(docLink);\n",
              "        }\n",
              "      </script>\n",
              "    </div>\n",
              "  </div>\n",
              "  "
            ]
          },
          "metadata": {},
          "execution_count": 135
        }
      ]
    },
    {
      "cell_type": "markdown",
      "source": [
        "# <font color='blue'>Use **`qcut`** method on **`age`** column to create a new column called **`age_divided`** that divides the customers into two categories (**`young_customers`** and **`old_customers`**):\n"
      ],
      "metadata": {
        "id": "WV2rGlU9ikJJ"
      }
    },
    {
      "cell_type": "code",
      "source": [
        "bcd['age_divided']=pd.qcut(bcd['age'],2,labels=[\"young_customers\", \"old_customers\"])"
      ],
      "metadata": {
        "id": "Z1EnpVDikEja",
        "colab": {
          "base_uri": "https://localhost:8080/"
        },
        "outputId": "f6a06c56-1592-4ec2-eab6-bb1dab50e5f7"
      },
      "execution_count": 136,
      "outputs": [
        {
          "output_type": "stream",
          "name": "stderr",
          "text": [
            "/usr/local/lib/python3.7/dist-packages/ipykernel_launcher.py:1: SettingWithCopyWarning: \n",
            "A value is trying to be set on a copy of a slice from a DataFrame.\n",
            "Try using .loc[row_indexer,col_indexer] = value instead\n",
            "\n",
            "See the caveats in the documentation: https://pandas.pydata.org/pandas-docs/stable/user_guide/indexing.html#returning-a-view-versus-a-copy\n",
            "  \"\"\"Entry point for launching an IPython kernel.\n"
          ]
        }
      ]
    },
    {
      "cell_type": "code",
      "source": [
        "bcd"
      ],
      "metadata": {
        "id": "mhyrgBmSkEqW",
        "colab": {
          "base_uri": "https://localhost:8080/",
          "height": 0
        },
        "outputId": "a3927ebf-557d-457e-9837-4fff2404d1a1"
      },
      "execution_count": 137,
      "outputs": [
        {
          "output_type": "execute_result",
          "data": {
            "text/plain": [
              "      age          job  marital  education  balance  duration      age_divided\n",
              "287  50.0   technician   single   tertiary      339         2    old_customers\n",
              "272  57.0   technician  married  secondary     1078        10    old_customers\n",
              "57   47.0  blue-collar  married    unknown      306        13    old_customers\n",
              "706  44.0   technician   single    unknown       78        13    old_customers\n",
              "538  34.0  blue-collar  married    unknown      245        13  young_customers\n",
              "..    ...          ...      ...        ...      ...       ...              ...\n",
              "694  36.0   technician  married  secondary      368      1597  young_customers\n",
              "446  39.0   technician   single    unknown    45248      1623  young_customers\n",
              "474  34.0       admin.  married  secondary      869      1677  young_customers\n",
              "59   46.0     services  married    primary      179      1778    old_customers\n",
              "600  38.0  blue-collar  married  secondary      384      1906  young_customers\n",
              "\n",
              "[807 rows x 7 columns]"
            ],
            "text/html": [
              "\n",
              "  <div id=\"df-7236214a-204a-4987-949c-8ecba3f81a5f\">\n",
              "    <div class=\"colab-df-container\">\n",
              "      <div>\n",
              "<style scoped>\n",
              "    .dataframe tbody tr th:only-of-type {\n",
              "        vertical-align: middle;\n",
              "    }\n",
              "\n",
              "    .dataframe tbody tr th {\n",
              "        vertical-align: top;\n",
              "    }\n",
              "\n",
              "    .dataframe thead th {\n",
              "        text-align: right;\n",
              "    }\n",
              "</style>\n",
              "<table border=\"1\" class=\"dataframe\">\n",
              "  <thead>\n",
              "    <tr style=\"text-align: right;\">\n",
              "      <th></th>\n",
              "      <th>age</th>\n",
              "      <th>job</th>\n",
              "      <th>marital</th>\n",
              "      <th>education</th>\n",
              "      <th>balance</th>\n",
              "      <th>duration</th>\n",
              "      <th>age_divided</th>\n",
              "    </tr>\n",
              "  </thead>\n",
              "  <tbody>\n",
              "    <tr>\n",
              "      <th>287</th>\n",
              "      <td>50.0</td>\n",
              "      <td>technician</td>\n",
              "      <td>single</td>\n",
              "      <td>tertiary</td>\n",
              "      <td>339</td>\n",
              "      <td>2</td>\n",
              "      <td>old_customers</td>\n",
              "    </tr>\n",
              "    <tr>\n",
              "      <th>272</th>\n",
              "      <td>57.0</td>\n",
              "      <td>technician</td>\n",
              "      <td>married</td>\n",
              "      <td>secondary</td>\n",
              "      <td>1078</td>\n",
              "      <td>10</td>\n",
              "      <td>old_customers</td>\n",
              "    </tr>\n",
              "    <tr>\n",
              "      <th>57</th>\n",
              "      <td>47.0</td>\n",
              "      <td>blue-collar</td>\n",
              "      <td>married</td>\n",
              "      <td>unknown</td>\n",
              "      <td>306</td>\n",
              "      <td>13</td>\n",
              "      <td>old_customers</td>\n",
              "    </tr>\n",
              "    <tr>\n",
              "      <th>706</th>\n",
              "      <td>44.0</td>\n",
              "      <td>technician</td>\n",
              "      <td>single</td>\n",
              "      <td>unknown</td>\n",
              "      <td>78</td>\n",
              "      <td>13</td>\n",
              "      <td>old_customers</td>\n",
              "    </tr>\n",
              "    <tr>\n",
              "      <th>538</th>\n",
              "      <td>34.0</td>\n",
              "      <td>blue-collar</td>\n",
              "      <td>married</td>\n",
              "      <td>unknown</td>\n",
              "      <td>245</td>\n",
              "      <td>13</td>\n",
              "      <td>young_customers</td>\n",
              "    </tr>\n",
              "    <tr>\n",
              "      <th>...</th>\n",
              "      <td>...</td>\n",
              "      <td>...</td>\n",
              "      <td>...</td>\n",
              "      <td>...</td>\n",
              "      <td>...</td>\n",
              "      <td>...</td>\n",
              "      <td>...</td>\n",
              "    </tr>\n",
              "    <tr>\n",
              "      <th>694</th>\n",
              "      <td>36.0</td>\n",
              "      <td>technician</td>\n",
              "      <td>married</td>\n",
              "      <td>secondary</td>\n",
              "      <td>368</td>\n",
              "      <td>1597</td>\n",
              "      <td>young_customers</td>\n",
              "    </tr>\n",
              "    <tr>\n",
              "      <th>446</th>\n",
              "      <td>39.0</td>\n",
              "      <td>technician</td>\n",
              "      <td>single</td>\n",
              "      <td>unknown</td>\n",
              "      <td>45248</td>\n",
              "      <td>1623</td>\n",
              "      <td>young_customers</td>\n",
              "    </tr>\n",
              "    <tr>\n",
              "      <th>474</th>\n",
              "      <td>34.0</td>\n",
              "      <td>admin.</td>\n",
              "      <td>married</td>\n",
              "      <td>secondary</td>\n",
              "      <td>869</td>\n",
              "      <td>1677</td>\n",
              "      <td>young_customers</td>\n",
              "    </tr>\n",
              "    <tr>\n",
              "      <th>59</th>\n",
              "      <td>46.0</td>\n",
              "      <td>services</td>\n",
              "      <td>married</td>\n",
              "      <td>primary</td>\n",
              "      <td>179</td>\n",
              "      <td>1778</td>\n",
              "      <td>old_customers</td>\n",
              "    </tr>\n",
              "    <tr>\n",
              "      <th>600</th>\n",
              "      <td>38.0</td>\n",
              "      <td>blue-collar</td>\n",
              "      <td>married</td>\n",
              "      <td>secondary</td>\n",
              "      <td>384</td>\n",
              "      <td>1906</td>\n",
              "      <td>young_customers</td>\n",
              "    </tr>\n",
              "  </tbody>\n",
              "</table>\n",
              "<p>807 rows × 7 columns</p>\n",
              "</div>\n",
              "      <button class=\"colab-df-convert\" onclick=\"convertToInteractive('df-7236214a-204a-4987-949c-8ecba3f81a5f')\"\n",
              "              title=\"Convert this dataframe to an interactive table.\"\n",
              "              style=\"display:none;\">\n",
              "        \n",
              "  <svg xmlns=\"http://www.w3.org/2000/svg\" height=\"24px\"viewBox=\"0 0 24 24\"\n",
              "       width=\"24px\">\n",
              "    <path d=\"M0 0h24v24H0V0z\" fill=\"none\"/>\n",
              "    <path d=\"M18.56 5.44l.94 2.06.94-2.06 2.06-.94-2.06-.94-.94-2.06-.94 2.06-2.06.94zm-11 1L8.5 8.5l.94-2.06 2.06-.94-2.06-.94L8.5 2.5l-.94 2.06-2.06.94zm10 10l.94 2.06.94-2.06 2.06-.94-2.06-.94-.94-2.06-.94 2.06-2.06.94z\"/><path d=\"M17.41 7.96l-1.37-1.37c-.4-.4-.92-.59-1.43-.59-.52 0-1.04.2-1.43.59L10.3 9.45l-7.72 7.72c-.78.78-.78 2.05 0 2.83L4 21.41c.39.39.9.59 1.41.59.51 0 1.02-.2 1.41-.59l7.78-7.78 2.81-2.81c.8-.78.8-2.07 0-2.86zM5.41 20L4 18.59l7.72-7.72 1.47 1.35L5.41 20z\"/>\n",
              "  </svg>\n",
              "      </button>\n",
              "      \n",
              "  <style>\n",
              "    .colab-df-container {\n",
              "      display:flex;\n",
              "      flex-wrap:wrap;\n",
              "      gap: 12px;\n",
              "    }\n",
              "\n",
              "    .colab-df-convert {\n",
              "      background-color: #E8F0FE;\n",
              "      border: none;\n",
              "      border-radius: 50%;\n",
              "      cursor: pointer;\n",
              "      display: none;\n",
              "      fill: #1967D2;\n",
              "      height: 32px;\n",
              "      padding: 0 0 0 0;\n",
              "      width: 32px;\n",
              "    }\n",
              "\n",
              "    .colab-df-convert:hover {\n",
              "      background-color: #E2EBFA;\n",
              "      box-shadow: 0px 1px 2px rgba(60, 64, 67, 0.3), 0px 1px 3px 1px rgba(60, 64, 67, 0.15);\n",
              "      fill: #174EA6;\n",
              "    }\n",
              "\n",
              "    [theme=dark] .colab-df-convert {\n",
              "      background-color: #3B4455;\n",
              "      fill: #D2E3FC;\n",
              "    }\n",
              "\n",
              "    [theme=dark] .colab-df-convert:hover {\n",
              "      background-color: #434B5C;\n",
              "      box-shadow: 0px 1px 3px 1px rgba(0, 0, 0, 0.15);\n",
              "      filter: drop-shadow(0px 1px 2px rgba(0, 0, 0, 0.3));\n",
              "      fill: #FFFFFF;\n",
              "    }\n",
              "  </style>\n",
              "\n",
              "      <script>\n",
              "        const buttonEl =\n",
              "          document.querySelector('#df-7236214a-204a-4987-949c-8ecba3f81a5f button.colab-df-convert');\n",
              "        buttonEl.style.display =\n",
              "          google.colab.kernel.accessAllowed ? 'block' : 'none';\n",
              "\n",
              "        async function convertToInteractive(key) {\n",
              "          const element = document.querySelector('#df-7236214a-204a-4987-949c-8ecba3f81a5f');\n",
              "          const dataTable =\n",
              "            await google.colab.kernel.invokeFunction('convertToInteractive',\n",
              "                                                     [key], {});\n",
              "          if (!dataTable) return;\n",
              "\n",
              "          const docLinkHtml = 'Like what you see? Visit the ' +\n",
              "            '<a target=\"_blank\" href=https://colab.research.google.com/notebooks/data_table.ipynb>data table notebook</a>'\n",
              "            + ' to learn more about interactive tables.';\n",
              "          element.innerHTML = '';\n",
              "          dataTable['output_type'] = 'display_data';\n",
              "          await google.colab.output.renderOutput(dataTable, element);\n",
              "          const docLink = document.createElement('div');\n",
              "          docLink.innerHTML = docLinkHtml;\n",
              "          element.appendChild(docLink);\n",
              "        }\n",
              "      </script>\n",
              "    </div>\n",
              "  </div>\n",
              "  "
            ]
          },
          "metadata": {},
          "execution_count": 137
        }
      ]
    },
    {
      "cell_type": "markdown",
      "source": [
        "# <font color='blue'>Show the **average_age** and **max_duration** of the divided customers like this:\n",
        ">## **hint:** Use **`groupby`** method:\n",
        "![3.PNG](data:image/png;base64,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)"
      ],
      "metadata": {
        "id": "UvX7iYgVtTZr"
      }
    },
    {
      "cell_type": "code",
      "source": [
        "bcd.groupby('age_divided').mean().drop(columns=['balance'])"
      ],
      "metadata": {
        "id": "ceXwH_lxpcZ9",
        "colab": {
          "base_uri": "https://localhost:8080/",
          "height": 0
        },
        "outputId": "1b742e71-116e-44a7-f891-67b9a2aebaac"
      },
      "execution_count": 138,
      "outputs": [
        {
          "output_type": "execute_result",
          "data": {
            "text/plain": [
              "                       age    duration\n",
              "age_divided                           \n",
              "young_customers  35.481663  268.941320\n",
              "old_customers    50.884422  271.889447"
            ],
            "text/html": [
              "\n",
              "  <div id=\"df-73381a4e-e7ac-4a13-95b9-5fc54e368df1\">\n",
              "    <div class=\"colab-df-container\">\n",
              "      <div>\n",
              "<style scoped>\n",
              "    .dataframe tbody tr th:only-of-type {\n",
              "        vertical-align: middle;\n",
              "    }\n",
              "\n",
              "    .dataframe tbody tr th {\n",
              "        vertical-align: top;\n",
              "    }\n",
              "\n",
              "    .dataframe thead th {\n",
              "        text-align: right;\n",
              "    }\n",
              "</style>\n",
              "<table border=\"1\" class=\"dataframe\">\n",
              "  <thead>\n",
              "    <tr style=\"text-align: right;\">\n",
              "      <th></th>\n",
              "      <th>age</th>\n",
              "      <th>duration</th>\n",
              "    </tr>\n",
              "    <tr>\n",
              "      <th>age_divided</th>\n",
              "      <th></th>\n",
              "      <th></th>\n",
              "    </tr>\n",
              "  </thead>\n",
              "  <tbody>\n",
              "    <tr>\n",
              "      <th>young_customers</th>\n",
              "      <td>35.481663</td>\n",
              "      <td>268.941320</td>\n",
              "    </tr>\n",
              "    <tr>\n",
              "      <th>old_customers</th>\n",
              "      <td>50.884422</td>\n",
              "      <td>271.889447</td>\n",
              "    </tr>\n",
              "  </tbody>\n",
              "</table>\n",
              "</div>\n",
              "      <button class=\"colab-df-convert\" onclick=\"convertToInteractive('df-73381a4e-e7ac-4a13-95b9-5fc54e368df1')\"\n",
              "              title=\"Convert this dataframe to an interactive table.\"\n",
              "              style=\"display:none;\">\n",
              "        \n",
              "  <svg xmlns=\"http://www.w3.org/2000/svg\" height=\"24px\"viewBox=\"0 0 24 24\"\n",
              "       width=\"24px\">\n",
              "    <path d=\"M0 0h24v24H0V0z\" fill=\"none\"/>\n",
              "    <path d=\"M18.56 5.44l.94 2.06.94-2.06 2.06-.94-2.06-.94-.94-2.06-.94 2.06-2.06.94zm-11 1L8.5 8.5l.94-2.06 2.06-.94-2.06-.94L8.5 2.5l-.94 2.06-2.06.94zm10 10l.94 2.06.94-2.06 2.06-.94-2.06-.94-.94-2.06-.94 2.06-2.06.94z\"/><path d=\"M17.41 7.96l-1.37-1.37c-.4-.4-.92-.59-1.43-.59-.52 0-1.04.2-1.43.59L10.3 9.45l-7.72 7.72c-.78.78-.78 2.05 0 2.83L4 21.41c.39.39.9.59 1.41.59.51 0 1.02-.2 1.41-.59l7.78-7.78 2.81-2.81c.8-.78.8-2.07 0-2.86zM5.41 20L4 18.59l7.72-7.72 1.47 1.35L5.41 20z\"/>\n",
              "  </svg>\n",
              "      </button>\n",
              "      \n",
              "  <style>\n",
              "    .colab-df-container {\n",
              "      display:flex;\n",
              "      flex-wrap:wrap;\n",
              "      gap: 12px;\n",
              "    }\n",
              "\n",
              "    .colab-df-convert {\n",
              "      background-color: #E8F0FE;\n",
              "      border: none;\n",
              "      border-radius: 50%;\n",
              "      cursor: pointer;\n",
              "      display: none;\n",
              "      fill: #1967D2;\n",
              "      height: 32px;\n",
              "      padding: 0 0 0 0;\n",
              "      width: 32px;\n",
              "    }\n",
              "\n",
              "    .colab-df-convert:hover {\n",
              "      background-color: #E2EBFA;\n",
              "      box-shadow: 0px 1px 2px rgba(60, 64, 67, 0.3), 0px 1px 3px 1px rgba(60, 64, 67, 0.15);\n",
              "      fill: #174EA6;\n",
              "    }\n",
              "\n",
              "    [theme=dark] .colab-df-convert {\n",
              "      background-color: #3B4455;\n",
              "      fill: #D2E3FC;\n",
              "    }\n",
              "\n",
              "    [theme=dark] .colab-df-convert:hover {\n",
              "      background-color: #434B5C;\n",
              "      box-shadow: 0px 1px 3px 1px rgba(0, 0, 0, 0.15);\n",
              "      filter: drop-shadow(0px 1px 2px rgba(0, 0, 0, 0.3));\n",
              "      fill: #FFFFFF;\n",
              "    }\n",
              "  </style>\n",
              "\n",
              "      <script>\n",
              "        const buttonEl =\n",
              "          document.querySelector('#df-73381a4e-e7ac-4a13-95b9-5fc54e368df1 button.colab-df-convert');\n",
              "        buttonEl.style.display =\n",
              "          google.colab.kernel.accessAllowed ? 'block' : 'none';\n",
              "\n",
              "        async function convertToInteractive(key) {\n",
              "          const element = document.querySelector('#df-73381a4e-e7ac-4a13-95b9-5fc54e368df1');\n",
              "          const dataTable =\n",
              "            await google.colab.kernel.invokeFunction('convertToInteractive',\n",
              "                                                     [key], {});\n",
              "          if (!dataTable) return;\n",
              "\n",
              "          const docLinkHtml = 'Like what you see? Visit the ' +\n",
              "            '<a target=\"_blank\" href=https://colab.research.google.com/notebooks/data_table.ipynb>data table notebook</a>'\n",
              "            + ' to learn more about interactive tables.';\n",
              "          element.innerHTML = '';\n",
              "          dataTable['output_type'] = 'display_data';\n",
              "          await google.colab.output.renderOutput(dataTable, element);\n",
              "          const docLink = document.createElement('div');\n",
              "          docLink.innerHTML = docLinkHtml;\n",
              "          element.appendChild(docLink);\n",
              "        }\n",
              "      </script>\n",
              "    </div>\n",
              "  </div>\n",
              "  "
            ]
          },
          "metadata": {},
          "execution_count": 138
        }
      ]
    },
    {
      "cell_type": "code",
      "source": [],
      "metadata": {
        "id": "vIBlebrfpp2m"
      },
      "execution_count": 138,
      "outputs": []
    },
    {
      "cell_type": "markdown",
      "source": [
        "# **<font color='red'>Git Part**\n"
      ],
      "metadata": {
        "id": "vfNe1kS0uCVq"
      }
    },
    {
      "cell_type": "markdown",
      "source": [
        "\n",
        "# 1. What is Git?\n",
        "\n",
        "\n",
        "> a) A nickname for GitHub\n",
        "\n",
        "> b) A remote repository platform\n",
        "\n",
        "> c) A programming language\n",
        "\n",
        "> d) A version control system"
      ],
      "metadata": {
        "id": "U9FCshffu7dY"
      }
    },
    {
      "cell_type": "code",
      "source": [
        "#d"
      ],
      "metadata": {
        "id": "EqcslHWvuYPP"
      },
      "execution_count": 139,
      "outputs": []
    },
    {
      "cell_type": "markdown",
      "source": [
        "# Why we use the Version Contol System :)"
      ],
      "metadata": {
        "id": "CBvwepubxCbn"
      }
    },
    {
      "cell_type": "code",
      "source": [
        "#when we work in a team on the same project and want to make different changes on it"
      ],
      "metadata": {
        "id": "2QkD7Mn9xXDx"
      },
      "execution_count": 140,
      "outputs": []
    },
    {
      "cell_type": "markdown",
      "source": [
        "\n",
        "# 2. Which command should you use to initialize a new Git repository?\n",
        "\n",
        "\n",
        "> a) git bash\n",
        "\n",
        "> b) git install\n",
        "\n",
        "> c) git init\n",
        "\n",
        "> d) git start"
      ],
      "metadata": {
        "id": "xjghLBSFwcPM"
      }
    },
    {
      "cell_type": "code",
      "source": [
        "#c"
      ],
      "metadata": {
        "id": "3i7EU-TowcPN"
      },
      "execution_count": 141,
      "outputs": []
    },
    {
      "cell_type": "markdown",
      "source": [
        "\n",
        "# 3. After you initialize a new Git repository and create a file named **`git-quiz.html`** , which of the following commands will **NOT** work if issued?\n",
        "\n",
        "\n",
        "> a) **`git add`** git-quiz.html\n",
        "\n",
        "> b) **`git status`**\n",
        "\n",
        "> c) **`git add .`**\n",
        "\n",
        "> d) **`git commit -m`** \"git quiz web file added\"\n"
      ],
      "metadata": {
        "id": "kJ2heVdRvfeT"
      }
    },
    {
      "cell_type": "code",
      "source": [
        "#c"
      ],
      "metadata": {
        "id": "kftQA7W1vfeT"
      },
      "execution_count": 142,
      "outputs": []
    },
    {
      "cell_type": "markdown",
      "source": [
        "# **<font color='red'>Problems**"
      ],
      "metadata": {
        "id": "noiFmLayx17-"
      }
    },
    {
      "cell_type": "markdown",
      "source": [
        "[**Problem_1**](https://codeforces.com/problemset/problem/282/A)"
      ],
      "metadata": {
        "id": "YdOzSlzgxjQJ"
      }
    },
    {
      "cell_type": "code",
      "source": [
        "# problem_link\n",
        "# https://codeforces.com/contest/282/submission/170982477\n"
      ],
      "metadata": {
        "id": "IOLTxAZkxjQK"
      },
      "execution_count": 143,
      "outputs": []
    },
    {
      "cell_type": "markdown",
      "source": [
        "[**Problem_2**](https://codeforces.com/group/T3p02rhrmb/contest/324959/problem/G)"
      ],
      "metadata": {
        "id": "sugsMAyb0hzW"
      }
    },
    {
      "cell_type": "code",
      "source": [
        "# problem_link\n",
        "n=int(input())\n",
        "print(int(n*(n+1)/2))"
      ],
      "metadata": {
        "id": "4TZutCCuyw1r",
        "colab": {
          "base_uri": "https://localhost:8080/"
        },
        "outputId": "27b04315-f164-454d-931c-c2e7e627acbe"
      },
      "execution_count": 144,
      "outputs": [
        {
          "output_type": "stream",
          "name": "stdout",
          "text": [
            "10\n",
            "55\n"
          ]
        }
      ]
    },
    {
      "cell_type": "markdown",
      "source": [
        "# Use git to upload this notebook on Gitub and put the link:"
      ],
      "metadata": {
        "id": "Za0MduJdyw1q"
      }
    },
    {
      "cell_type": "code",
      "source": [
        "!git init"
      ],
      "metadata": {
        "id": "vdgMBmHx1Gae",
        "colab": {
          "base_uri": "https://localhost:8080/"
        },
        "outputId": "1ca5e023-c316-4d50-fad4-92a408369844"
      },
      "execution_count": 145,
      "outputs": [
        {
          "output_type": "stream",
          "name": "stdout",
          "text": [
            "Reinitialized existing Git repository in /content/IEEE-task6/IEEEt-ask-6/IEEEt-ask-6/.git/\n"
          ]
        }
      ]
    },
    {
      "cell_type": "code",
      "source": [
        "!git clone \"https://github.com/ahmedbedair2001/bankcustomer.git\""
      ],
      "metadata": {
        "colab": {
          "base_uri": "https://localhost:8080/"
        },
        "id": "Dv__5723bu92",
        "outputId": "bc52660d-08c3-47ca-eb1c-95f95dde8cf4"
      },
      "execution_count": 146,
      "outputs": [
        {
          "output_type": "stream",
          "name": "stdout",
          "text": [
            "Cloning into 'bankcustomer'...\n",
            "remote: Enumerating objects: 3, done.\u001b[K\n",
            "remote: Counting objects: 100% (3/3), done.\u001b[K\n",
            "remote: Total 3 (delta 0), reused 0 (delta 0), pack-reused 0\u001b[K\n",
            "Unpacking objects: 100% (3/3), done.\n"
          ]
        }
      ]
    },
    {
      "cell_type": "code",
      "source": [
        "!git config --global user.email 'ahmedbedair33@gmail.com'\n",
        "!git config --global user.name 'ahmedbedair2001'\n"
      ],
      "metadata": {
        "id": "aLyNwfUvcahM"
      },
      "execution_count": 156,
      "outputs": []
    },
    {
      "cell_type": "code",
      "source": [
        "%cd bankcustomer\n",
        "\n"
      ],
      "metadata": {
        "id": "mKTZ5TqhdnBN",
        "colab": {
          "base_uri": "https://localhost:8080/"
        },
        "outputId": "1649aa43-0693-454f-b815-30913970ee5b"
      },
      "execution_count": 160,
      "outputs": [
        {
          "output_type": "stream",
          "name": "stdout",
          "text": [
            "/content/IEEE-task6/IEEEt-ask-6/IEEEt-ask-6/bankcustomer\n"
          ]
        }
      ]
    },
    {
      "cell_type": "code",
      "source": [
        "!git commit -m \"Done\"\n",
        "\n"
      ],
      "metadata": {
        "colab": {
          "base_uri": "https://localhost:8080/"
        },
        "id": "_v6_kbXid_qm",
        "outputId": "a12a3b56-fa98-45aa-c8b2-8e032baf6cfd"
      },
      "execution_count": 168,
      "outputs": [
        {
          "output_type": "stream",
          "name": "stdout",
          "text": [
            "On branch main\n",
            "Your branch is up to date with 'origin/main'.\n",
            "\n",
            "nothing to commit, working tree clean\n"
          ]
        }
      ]
    },
    {
      "cell_type": "code",
      "source": [
        "!git push \n",
        "\n"
      ],
      "metadata": {
        "id": "F0p8AYDFeYft",
        "colab": {
          "base_uri": "https://localhost:8080/"
        },
        "outputId": "0887056f-10f0-4dc0-d3c9-68958bc775d0"
      },
      "execution_count": 165,
      "outputs": [
        {
          "output_type": "stream",
          "name": "stdout",
          "text": [
            "fatal: could not read Username for 'https://github.com': No such device or address\n"
          ]
        }
      ]
    },
    {
      "cell_type": "code",
      "source": [],
      "metadata": {
        "id": "cATFHkNHi-lv"
      },
      "execution_count": 144,
      "outputs": []
    },
    {
      "cell_type": "code",
      "source": [],
      "metadata": {
        "id": "WL2tCBMHezWm"
      },
      "execution_count": 144,
      "outputs": []
    },
    {
      "cell_type": "code",
      "source": [],
      "metadata": {
        "id": "opGuKw_tjZqn"
      },
      "execution_count": 144,
      "outputs": []
    },
    {
      "cell_type": "code",
      "source": [],
      "metadata": {
        "id": "tdLXYTSGjgEn"
      },
      "execution_count": 144,
      "outputs": []
    }
  ]
}